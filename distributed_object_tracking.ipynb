{
  "nbformat": 4,
  "nbformat_minor": 0,
  "metadata": {
    "colab": {
      "name": "distributed-object-tracking.ipynb",
      "provenance": [],
      "collapsed_sections": [],
      "authorship_tag": "ABX9TyP8Lmqlu/HLVuqEKkV2C4Sy",
      "include_colab_link": true
    },
    "kernelspec": {
      "name": "python3",
      "display_name": "Python 3"
    },
    "language_info": {
      "name": "python"
    }
  },
  "cells": [
    {
      "cell_type": "markdown",
      "metadata": {
        "id": "view-in-github",
        "colab_type": "text"
      },
      "source": [
        "<a href=\"https://colab.research.google.com/github/ArnabSagar/distributed-object-tracking/blob/main/distributed_object_tracking.ipynb\" target=\"_parent\"><img src=\"https://colab.research.google.com/assets/colab-badge.svg\" alt=\"Open In Colab\"/></a>"
      ]
    },
    {
      "cell_type": "code",
      "execution_count": null,
      "metadata": {
        "colab": {
          "base_uri": "https://localhost:8080/"
        },
        "id": "dis9oI-PrzOs",
        "outputId": "7da434b7-43b8-460f-9bdd-4fd2f5ebbfcc"
      },
      "outputs": [
        {
          "output_type": "stream",
          "name": "stdout",
          "text": [
            "\u001b[K\u001b[?25h/tools/node/bin/n -> /tools/node/lib/node_modules/n/bin/n\n",
            "\u001b[K\u001b[?25h+ n@8.2.0\n",
            "added 1 package from 2 contributors in 0.6s\n",
            "  \u001b[36minstalling\u001b[0m : \u001b[2mnode-v12.22.4\u001b[0m\n",
            "  \u001b[36m     mkdir\u001b[0m : \u001b[2m/usr/local/n/versions/node/12.22.4\u001b[0m\n",
            "  \u001b[36m     fetch\u001b[0m : \u001b[2mhttps://nodejs.org/dist/v12.22.4/node-v12.22.4-linux-x64.tar.xz\u001b[0m\n",
            "######################################################################## 100.0%\n",
            "\u001b[1A\u001b[2K  \u001b[36m   copying\u001b[0m : \u001b[2mnode/12.22.4\u001b[0m\n",
            "  \u001b[36m installed\u001b[0m : \u001b[2mv12.22.4 (with npm 6.14.14)\u001b[0m\n",
            "\n",
            "Note: the node command changed location and the old location may be remembered in your current shell.\n",
            "  \u001b[36m       old\u001b[0m : \u001b[2m/tools/node/bin/node\u001b[0m\n",
            "  \u001b[36m       new\u001b[0m : \u001b[2m/usr/local/bin/node\u001b[0m\n",
            "If \"node --version\" shows the old version then start a new shell, or reset the location hash with:\n",
            "hash -r  (for bash, zsh, ash, dash, and ksh)\n",
            "rehash   (for csh and tcsh)\n",
            "\u001b[K     |████████████████████████████████| 212 kB 8.4 MB/s \n",
            "\u001b[K     |████████████████████████████████| 96 kB 4.2 MB/s \n",
            "\u001b[?25h  Building wheel for Bifrost (setup.py) ... \u001b[?25l\u001b[?25hdone\n",
            "  Building wheel for posix-ipc (setup.py) ... \u001b[?25l\u001b[?25hdone\n"
          ]
        }
      ],
      "source": [
        "!npm install -g n && n 12.22.4\n",
        "!pip install -q git+https://github.com/Kings-Distributed-Systems/Bifrost\n",
        "\n",
        "from bifrost import dcp"
      ]
    },
    {
      "cell_type": "code",
      "source": [
        "# Loads a DCP Account keystore containing compute Credits\n",
        "# When prompted, please upload your keystore file\n",
        "\n",
        "from google.colab import files\n",
        "\n",
        "KEYSTORE_NAME = list(files.upload().keys())[0]\n",
        "\n",
        "!mkdir -p ~/.dcp\n",
        "!cp /content/$KEYSTORE_NAME ~/.dcp/default.keystore\n",
        "!cp /content/$KEYSTORE_NAME ~/.dcp/id.keystore"
      ],
      "metadata": {
        "colab": {
          "resources": {
            "http://localhost:8080/nbextensions/google.colab/files.js": {
              "data": "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",
              "ok": true,
              "headers": [
                [
                  "content-type",
                  "application/javascript"
                ]
              ],
              "status": 200,
              "status_text": ""
            }
          },
          "base_uri": "https://localhost:8080/",
          "height": 73
        },
        "id": "-K5HMWjdr8G1",
        "outputId": "abca9c05-dea1-4ecb-eb3f-4f29c2fc79fb"
      },
      "execution_count": null,
      "outputs": [
        {
          "output_type": "display_data",
          "data": {
            "text/plain": [
              "<IPython.core.display.HTML object>"
            ],
            "text/html": [
              "\n",
              "     <input type=\"file\" id=\"files-7c7dab35-45dc-44ae-9780-2bad49941575\" name=\"files[]\" multiple disabled\n",
              "        style=\"border:none\" />\n",
              "     <output id=\"result-7c7dab35-45dc-44ae-9780-2bad49941575\">\n",
              "      Upload widget is only available when the cell has been executed in the\n",
              "      current browser session. Please rerun this cell to enable.\n",
              "      </output>\n",
              "      <script src=\"/nbextensions/google.colab/files.js\"></script> "
            ]
          },
          "metadata": {}
        },
        {
          "output_type": "stream",
          "name": "stdout",
          "text": [
            "Saving default.keystore to default.keystore\n"
          ]
        }
      ]
    },
    {
      "cell_type": "code",
      "source": [
        "# Removing any old existing frames from previous runs.\n",
        "import os\n",
        "try:\n",
        "    files_in_directory = os.listdir(\"./frames/\")\n",
        "    filtered_files = [file for file in files_in_directory if file.endswith(\".jpg\")]\n",
        "    for file in filtered_files:\n",
        "      path_to_file = os.path.join(\"./frames/\", file)\n",
        "      # print(path_to_file)\n",
        "      os.remove(path_to_file)\n",
        "\n",
        "except OSError as e:\n",
        "    print(\"Error: %s : %s\" % (path_to_file, e.strerror))"
      ],
      "metadata": {
        "id": "vVKSFHvtseih"
      },
      "execution_count": 45,
      "outputs": []
    },
    {
      "cell_type": "code",
      "source": [
        "# Extracting the frames from the video and saving them to the frames directory \n",
        "import cv2\n",
        "vidcap = cv2.VideoCapture(\"rgb.mp4\")\n",
        "success,image = vidcap.read()\n",
        "count = 0\n",
        "while success:\n",
        "  cv2.imwrite(\"./frames/%dframe.jpg\" % count, image)     # save frame as JPEG file      \n",
        "  success,image = vidcap.read()\n",
        "  count += 1"
      ],
      "metadata": {
        "id": "GlSaRLJql58R"
      },
      "execution_count": 46,
      "outputs": []
    },
    {
      "cell_type": "code",
      "source": [
        "# Extracting the list of frames from the frames directory and sorting them in the right order\n",
        "frames = []\n",
        "for file in sorted(os.listdir(\"./frames\"), key=lambda x: int(x.replace(\"frame.jpg\", \"\"))):\n",
        "    frames.append(file)\n",
        "    \n",
        "# print(frames)\n"
      ],
      "metadata": {
        "id": "Fx-3GFuPr1hA",
        "outputId": "a02d9b2e-a641-4e08-d809-021f004e404b",
        "colab": {
          "base_uri": "https://localhost:8080/"
        }
      },
      "execution_count": 52,
      "outputs": [
        {
          "output_type": "stream",
          "name": "stdout",
          "text": [
            "['0frame.jpg', '1frame.jpg', '2frame.jpg', '3frame.jpg', '4frame.jpg', '5frame.jpg', '6frame.jpg', '7frame.jpg', '8frame.jpg', '9frame.jpg', '10frame.jpg', '11frame.jpg', '12frame.jpg', '13frame.jpg', '14frame.jpg', '15frame.jpg', '16frame.jpg', '17frame.jpg', '18frame.jpg', '19frame.jpg', '20frame.jpg', '21frame.jpg', '22frame.jpg', '23frame.jpg', '24frame.jpg', '25frame.jpg', '26frame.jpg', '27frame.jpg', '28frame.jpg', '29frame.jpg', '30frame.jpg', '31frame.jpg', '32frame.jpg', '33frame.jpg', '34frame.jpg', '35frame.jpg', '36frame.jpg', '37frame.jpg', '38frame.jpg', '39frame.jpg', '40frame.jpg', '41frame.jpg', '42frame.jpg', '43frame.jpg', '44frame.jpg', '45frame.jpg', '46frame.jpg', '47frame.jpg', '48frame.jpg', '49frame.jpg', '50frame.jpg', '51frame.jpg', '52frame.jpg', '53frame.jpg', '54frame.jpg', '55frame.jpg', '56frame.jpg', '57frame.jpg', '58frame.jpg', '59frame.jpg', '60frame.jpg', '61frame.jpg', '62frame.jpg', '63frame.jpg', '64frame.jpg', '65frame.jpg', '66frame.jpg', '67frame.jpg', '68frame.jpg', '69frame.jpg', '70frame.jpg', '71frame.jpg', '72frame.jpg', '73frame.jpg', '74frame.jpg', '75frame.jpg', '76frame.jpg', '77frame.jpg', '78frame.jpg', '79frame.jpg', '80frame.jpg', '81frame.jpg', '82frame.jpg', '83frame.jpg', '84frame.jpg', '85frame.jpg', '86frame.jpg', '87frame.jpg', '88frame.jpg', '89frame.jpg', '90frame.jpg', '91frame.jpg', '92frame.jpg', '93frame.jpg', '94frame.jpg', '95frame.jpg', '96frame.jpg', '97frame.jpg', '98frame.jpg', '99frame.jpg', '100frame.jpg', '101frame.jpg', '102frame.jpg', '103frame.jpg', '104frame.jpg', '105frame.jpg', '106frame.jpg', '107frame.jpg', '108frame.jpg', '109frame.jpg', '110frame.jpg', '111frame.jpg', '112frame.jpg', '113frame.jpg', '114frame.jpg', '115frame.jpg', '116frame.jpg', '117frame.jpg', '118frame.jpg', '119frame.jpg', '120frame.jpg', '121frame.jpg', '122frame.jpg', '123frame.jpg', '124frame.jpg', '125frame.jpg', '126frame.jpg', '127frame.jpg', '128frame.jpg', '129frame.jpg', '130frame.jpg', '131frame.jpg', '132frame.jpg', '133frame.jpg', '134frame.jpg', '135frame.jpg', '136frame.jpg', '137frame.jpg', '138frame.jpg', '139frame.jpg', '140frame.jpg', '141frame.jpg', '142frame.jpg', '143frame.jpg', '144frame.jpg', '145frame.jpg', '146frame.jpg', '147frame.jpg', '148frame.jpg', '149frame.jpg', '150frame.jpg', '151frame.jpg', '152frame.jpg', '153frame.jpg', '154frame.jpg', '155frame.jpg', '156frame.jpg', '157frame.jpg', '158frame.jpg', '159frame.jpg', '160frame.jpg', '161frame.jpg', '162frame.jpg', '163frame.jpg', '164frame.jpg', '165frame.jpg', '166frame.jpg', '167frame.jpg', '168frame.jpg', '169frame.jpg', '170frame.jpg', '171frame.jpg', '172frame.jpg', '173frame.jpg', '174frame.jpg', '175frame.jpg', '176frame.jpg', '177frame.jpg', '178frame.jpg', '179frame.jpg', '180frame.jpg', '181frame.jpg', '182frame.jpg', '183frame.jpg', '184frame.jpg', '185frame.jpg', '186frame.jpg', '187frame.jpg', '188frame.jpg', '189frame.jpg', '190frame.jpg', '191frame.jpg', '192frame.jpg', '193frame.jpg', '194frame.jpg', '195frame.jpg', '196frame.jpg', '197frame.jpg', '198frame.jpg', '199frame.jpg', '200frame.jpg', '201frame.jpg', '202frame.jpg', '203frame.jpg', '204frame.jpg', '205frame.jpg', '206frame.jpg', '207frame.jpg', '208frame.jpg', '209frame.jpg', '210frame.jpg', '211frame.jpg', '212frame.jpg', '213frame.jpg', '214frame.jpg', '215frame.jpg', '216frame.jpg', '217frame.jpg', '218frame.jpg', '219frame.jpg', '220frame.jpg', '221frame.jpg', '222frame.jpg', '223frame.jpg', '224frame.jpg', '225frame.jpg', '226frame.jpg', '227frame.jpg', '228frame.jpg', '229frame.jpg', '230frame.jpg', '231frame.jpg', '232frame.jpg', '233frame.jpg', '234frame.jpg', '235frame.jpg', '236frame.jpg', '237frame.jpg', '238frame.jpg', '239frame.jpg', '240frame.jpg', '241frame.jpg', '242frame.jpg', '243frame.jpg', '244frame.jpg', '245frame.jpg', '246frame.jpg', '247frame.jpg', '248frame.jpg', '249frame.jpg', '250frame.jpg', '251frame.jpg', '252frame.jpg', '253frame.jpg', '254frame.jpg', '255frame.jpg', '256frame.jpg', '257frame.jpg', '258frame.jpg', '259frame.jpg', '260frame.jpg', '261frame.jpg', '262frame.jpg', '263frame.jpg', '264frame.jpg', '265frame.jpg', '266frame.jpg', '267frame.jpg', '268frame.jpg', '269frame.jpg', '270frame.jpg', '271frame.jpg', '272frame.jpg', '273frame.jpg', '274frame.jpg', '275frame.jpg', '276frame.jpg', '277frame.jpg', '278frame.jpg', '279frame.jpg', '280frame.jpg', '281frame.jpg', '282frame.jpg', '283frame.jpg', '284frame.jpg', '285frame.jpg', '286frame.jpg', '287frame.jpg', '288frame.jpg', '289frame.jpg', '290frame.jpg', '291frame.jpg', '292frame.jpg', '293frame.jpg', '294frame.jpg', '295frame.jpg', '296frame.jpg', '297frame.jpg', '298frame.jpg', '299frame.jpg', '300frame.jpg', '301frame.jpg', '302frame.jpg', '303frame.jpg', '304frame.jpg', '305frame.jpg', '306frame.jpg', '307frame.jpg', '308frame.jpg', '309frame.jpg', '310frame.jpg', '311frame.jpg', '312frame.jpg', '313frame.jpg', '314frame.jpg', '315frame.jpg', '316frame.jpg', '317frame.jpg', '318frame.jpg', '319frame.jpg', '320frame.jpg', '321frame.jpg', '322frame.jpg', '323frame.jpg', '324frame.jpg', '325frame.jpg', '326frame.jpg', '327frame.jpg', '328frame.jpg', '329frame.jpg', '330frame.jpg', '331frame.jpg', '332frame.jpg', '333frame.jpg', '334frame.jpg', '335frame.jpg', '336frame.jpg', '337frame.jpg', '338frame.jpg', '339frame.jpg', '340frame.jpg', '341frame.jpg', '342frame.jpg', '343frame.jpg', '344frame.jpg', '345frame.jpg', '346frame.jpg', '347frame.jpg', '348frame.jpg', '349frame.jpg', '350frame.jpg', '351frame.jpg', '352frame.jpg', '353frame.jpg', '354frame.jpg', '355frame.jpg', '356frame.jpg', '357frame.jpg', '358frame.jpg', '359frame.jpg', '360frame.jpg', '361frame.jpg', '362frame.jpg', '363frame.jpg', '364frame.jpg', '365frame.jpg', '366frame.jpg', '367frame.jpg', '368frame.jpg', '369frame.jpg', '370frame.jpg', '371frame.jpg', '372frame.jpg', '373frame.jpg', '374frame.jpg', '375frame.jpg', '376frame.jpg', '377frame.jpg', '378frame.jpg', '379frame.jpg', '380frame.jpg', '381frame.jpg', '382frame.jpg', '383frame.jpg', '384frame.jpg', '385frame.jpg', '386frame.jpg', '387frame.jpg', '388frame.jpg', '389frame.jpg', '390frame.jpg', '391frame.jpg', '392frame.jpg', '393frame.jpg', '394frame.jpg', '395frame.jpg', '396frame.jpg', '397frame.jpg', '398frame.jpg', '399frame.jpg', '400frame.jpg', '401frame.jpg', '402frame.jpg', '403frame.jpg', '404frame.jpg', '405frame.jpg', '406frame.jpg', '407frame.jpg', '408frame.jpg', '409frame.jpg', '410frame.jpg', '411frame.jpg', '412frame.jpg', '413frame.jpg', '414frame.jpg', '415frame.jpg', '416frame.jpg', '417frame.jpg', '418frame.jpg', '419frame.jpg', '420frame.jpg', '421frame.jpg', '422frame.jpg', '423frame.jpg', '424frame.jpg', '425frame.jpg', '426frame.jpg', '427frame.jpg', '428frame.jpg', '429frame.jpg', '430frame.jpg', '431frame.jpg', '432frame.jpg', '433frame.jpg', '434frame.jpg', '435frame.jpg', '436frame.jpg', '437frame.jpg', '438frame.jpg', '439frame.jpg', '440frame.jpg', '441frame.jpg', '442frame.jpg', '443frame.jpg', '444frame.jpg', '445frame.jpg', '446frame.jpg', '447frame.jpg', '448frame.jpg', '449frame.jpg', '450frame.jpg', '451frame.jpg', '452frame.jpg', '453frame.jpg', '454frame.jpg', '455frame.jpg', '456frame.jpg', '457frame.jpg', '458frame.jpg', '459frame.jpg', '460frame.jpg', '461frame.jpg', '462frame.jpg', '463frame.jpg', '464frame.jpg', '465frame.jpg', '466frame.jpg', '467frame.jpg', '468frame.jpg', '469frame.jpg', '470frame.jpg', '471frame.jpg', '472frame.jpg', '473frame.jpg', '474frame.jpg', '475frame.jpg', '476frame.jpg', '477frame.jpg', '478frame.jpg', '479frame.jpg', '480frame.jpg', '481frame.jpg', '482frame.jpg', '483frame.jpg', '484frame.jpg', '485frame.jpg', '486frame.jpg', '487frame.jpg', '488frame.jpg', '489frame.jpg', '490frame.jpg', '491frame.jpg', '492frame.jpg', '493frame.jpg', '494frame.jpg', '495frame.jpg', '496frame.jpg', '497frame.jpg', '498frame.jpg', '499frame.jpg', '500frame.jpg', '501frame.jpg', '502frame.jpg', '503frame.jpg', '504frame.jpg', '505frame.jpg', '506frame.jpg', '507frame.jpg', '508frame.jpg', '509frame.jpg', '510frame.jpg', '511frame.jpg', '512frame.jpg']\n"
          ]
        }
      ]
    },
    {
      "cell_type": "code",
      "source": [
        "# Getting the pixels from the each frame and sending the data over\n",
        "\n",
        "\n"
      ],
      "metadata": {
        "id": "Pn284GrJwMvg"
      },
      "execution_count": 53,
      "outputs": []
    },
    {
      "cell_type": "code",
      "source": [
        "#Input Set: Set of four frames' pixels. Two are the RGB values f and two are the depth maps alpha values \n",
        "\n"
      ],
      "metadata": {
        "id": "hkRgM8BHwYAS"
      },
      "execution_count": null,
      "outputs": []
    }
  ]
}